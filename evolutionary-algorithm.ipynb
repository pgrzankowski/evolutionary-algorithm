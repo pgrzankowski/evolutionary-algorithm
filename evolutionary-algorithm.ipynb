{
 "cells": [
  {
   "cell_type": "markdown",
   "metadata": {},
   "source": [
    "# Evolutionary algorithm"
   ]
  },
  {
   "cell_type": "markdown",
   "metadata": {},
   "source": [
    "## 1. Install dependencies"
   ]
  },
  {
   "cell_type": "code",
   "execution_count": 4,
   "metadata": {},
   "outputs": [],
   "source": [
    "# %pip install numpy"
   ]
  },
  {
   "cell_type": "markdown",
   "metadata": {},
   "source": [
    "## 2. Declaration of functions to optimize"
   ]
  },
  {
   "cell_type": "code",
   "execution_count": 5,
   "metadata": {},
   "outputs": [],
   "source": [
    "import numpy as np"
   ]
  },
  {
   "cell_type": "code",
   "execution_count": 6,
   "metadata": {},
   "outputs": [],
   "source": [
    "def himmelblau(x):\n",
    "    return (x[0]**2 + x[1] - 11)**2 + (x[0] + x[1]**2 - 7)**2\n",
    "\n",
    "def ackley(x):\n",
    "    return -20 * np.exp(-0.2 * np.sqrt(0.5 * (x[0]**2 + x[1]**2))) - np.exp(0.5 * (np.cos(2 * np.pi * x[0]) + np.cos(2 * np.pi * x[1]))) + 20 + np.e"
   ]
  },
  {
   "cell_type": "markdown",
   "metadata": {},
   "source": [
    "## 2. Creating algorithm"
   ]
  },
  {
   "cell_type": "markdown",
   "metadata": {},
   "source": [
    "### 2.1 Useful functions declaration"
   ]
  },
  {
   "cell_type": "code",
   "execution_count": 38,
   "metadata": {},
   "outputs": [],
   "source": [
    "def calculate_scores(population, function):\n",
    "    return np.array([function(gen) for gen in population])"
   ]
  },
  {
   "cell_type": "code",
   "execution_count": 30,
   "metadata": {},
   "outputs": [],
   "source": [
    "def selection(population, fitness_scores):\n",
    "    inverted_fitness_scores = 1.0 / (fitness_scores + 1e-9)\n",
    "    total_fitness = np.sum(inverted_fitness_scores)\n",
    "    selection_probabilities = inverted_fitness_scores / total_fitness\n",
    "    \n",
    "    parents_indices = np.random.choice(np.arange(len(population)), size=len(population), p=selection_probabilities)\n",
    "    parents = population[parents_indices]\n",
    "    return parents"
   ]
  },
  {
   "cell_type": "code",
   "execution_count": 34,
   "metadata": {},
   "outputs": [],
   "source": [
    "def crossover(parents):\n",
    "    children = np.zeros_like(parents)\n",
    "    for i in range(len(parents)):\n",
    "        parent1 = parents[np.random.randint(len(parents))]\n",
    "        parent2 = parents[np.random.randint(len(parents))]\n",
    "        children[i] = np.array([parent1[0], parent2[1]])\n",
    "    return children"
   ]
  },
  {
   "cell_type": "code",
   "execution_count": 36,
   "metadata": {},
   "outputs": [],
   "source": [
    "def mutate(children, mutation_rate=0.01, distance=100):\n",
    "    for i in range(len(children)):\n",
    "        for j in range(2):\n",
    "            if np.random.rand() < mutation_rate:\n",
    "                children[i][j] = np.random.uniform(-distance, distance)\n",
    "    return children"
   ]
  },
  {
   "cell_type": "markdown",
   "metadata": {},
   "source": [
    "### 2.2 Algorithm implementation"
   ]
  },
  {
   "cell_type": "code",
   "execution_count": 47,
   "metadata": {},
   "outputs": [],
   "source": [
    "def evolutionary_algorithm(function, pop_size=1000, pop_diver=10, max_iter=1000):\n",
    "    # Base population initialization\n",
    "    base_population = np.random.uniform(-pop_diver, pop_diver, size=(pop_size, 2))\n",
    "    population = base_population.copy()\n",
    "    iterations = 0\n",
    "\n",
    "    for i in range(max_iter):\n",
    "        if i % 100 == 0:\n",
    "            print(f'Simulating generation {i}')\n",
    "        # Rating individuals\n",
    "        fitness_scores = calculate_scores(population, function)\n",
    "\n",
    "        # Parent selection\n",
    "        parents = selection(population, fitness_scores)\n",
    "\n",
    "        # Crossover\n",
    "        children = crossover(parents)\n",
    "\n",
    "        # Mutation and succession\n",
    "        population = mutate(children)\n",
    "        iterations = i\n",
    "    \n",
    "    solution = population[np.argmin(calculate_scores(population, function))]\n",
    "    return solution, iterations\n"
   ]
  },
  {
   "cell_type": "markdown",
   "metadata": {},
   "source": [
    "## 3. Application on functions"
   ]
  },
  {
   "cell_type": "markdown",
   "metadata": {},
   "source": [
    "### 3.1 Himmelblau's function"
   ]
  },
  {
   "cell_type": "code",
   "execution_count": 50,
   "metadata": {},
   "outputs": [
    {
     "name": "stdout",
     "output_type": "stream",
     "text": [
      "Simulating generation 0\n",
      "Simulating generation 100\n",
      "Simulating generation 200\n",
      "Simulating generation 300\n",
      "Simulating generation 400\n",
      "Simulating generation 500\n",
      "Simulating generation 600\n",
      "Simulating generation 700\n",
      "Simulating generation 800\n",
      "Simulating generation 900\n"
     ]
    },
    {
     "data": {
      "text/plain": [
       "(array([ 3.58275584, -1.84759228]), 999)"
      ]
     },
     "execution_count": 50,
     "metadata": {},
     "output_type": "execute_result"
    }
   ],
   "source": [
    "solution, iterations = evolutionary_algorithm(himmelblau)\n",
    "solution, iterations"
   ]
  },
  {
   "cell_type": "markdown",
   "metadata": {},
   "source": [
    "### 3.2 Ackley's function"
   ]
  },
  {
   "cell_type": "code",
   "execution_count": 51,
   "metadata": {},
   "outputs": [
    {
     "name": "stdout",
     "output_type": "stream",
     "text": [
      "Simulating generation 0\n",
      "Simulating generation 100\n",
      "Simulating generation 200\n",
      "Simulating generation 300\n",
      "Simulating generation 400\n",
      "Simulating generation 500\n",
      "Simulating generation 600\n",
      "Simulating generation 700\n",
      "Simulating generation 800\n",
      "Simulating generation 900\n"
     ]
    },
    {
     "data": {
      "text/plain": [
       "(array([ 0.01081023, -0.01297836]), 999)"
      ]
     },
     "execution_count": 51,
     "metadata": {},
     "output_type": "execute_result"
    }
   ],
   "source": [
    "solution, iterations = evolutionary_algorithm(ackley)\n",
    "solution, iterations"
   ]
  },
  {
   "cell_type": "code",
   "execution_count": null,
   "metadata": {},
   "outputs": [],
   "source": []
  }
 ],
 "metadata": {
  "kernelspec": {
   "display_name": "Python 3",
   "language": "python",
   "name": "python3"
  },
  "language_info": {
   "codemirror_mode": {
    "name": "ipython",
    "version": 3
   },
   "file_extension": ".py",
   "mimetype": "text/x-python",
   "name": "python",
   "nbconvert_exporter": "python",
   "pygments_lexer": "ipython3",
   "version": "3.12.2"
  }
 },
 "nbformat": 4,
 "nbformat_minor": 2
}
