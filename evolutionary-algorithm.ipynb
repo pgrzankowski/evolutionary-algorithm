{
 "cells": [
  {
   "cell_type": "markdown",
   "metadata": {},
   "source": [
    "# Evolutionary algorithm"
   ]
  },
  {
   "cell_type": "markdown",
   "metadata": {},
   "source": [
    "## 1. Install dependencies"
   ]
  },
  {
   "cell_type": "code",
   "execution_count": 19,
   "metadata": {},
   "outputs": [],
   "source": [
    "# %pip install numpy"
   ]
  },
  {
   "cell_type": "markdown",
   "metadata": {},
   "source": [
    "## 2. Declaration of functions to optimize"
   ]
  },
  {
   "cell_type": "code",
   "execution_count": 20,
   "metadata": {},
   "outputs": [],
   "source": [
    "import numpy as np"
   ]
  },
  {
   "cell_type": "code",
   "execution_count": 21,
   "metadata": {},
   "outputs": [],
   "source": [
    "def himmelblau(x):\n",
    "    return (x[0]**2 + x[1] - 11)**2 + (x[0] + x[1]**2 - 7)**2\n",
    "\n",
    "def ackley(x):\n",
    "    return -20 * np.exp(-0.2 * np.sqrt(0.5 * (x[0]**2 + x[1]**2))) - np.exp(0.5 * (np.cos(2 * np.pi * x[0]) + np.cos(2 * np.pi * x[1]))) + 20 + np.e"
   ]
  },
  {
   "cell_type": "markdown",
   "metadata": {},
   "source": [
    "## 2. Creating algorithm"
   ]
  },
  {
   "cell_type": "markdown",
   "metadata": {},
   "source": [
    "### 2.1 Useful functions declaration"
   ]
  },
  {
   "cell_type": "code",
   "execution_count": 37,
   "metadata": {},
   "outputs": [],
   "source": [
    "def calculate_scores(population, function):\n",
    "    return np.array([function(gen) for gen in population])"
   ]
  },
  {
   "cell_type": "code",
   "execution_count": 38,
   "metadata": {},
   "outputs": [],
   "source": [
    "def selection(population, fitness_scores):\n",
    "    inverted_fitness_scores = 1 / (fitness_scores + 1e-6)\n",
    "    total_fitness = np.sum(inverted_fitness_scores)\n",
    "    selection_probabilities = inverted_fitness_scores / total_fitness\n",
    "    \n",
    "    parents_indices = np.random.choice(np.arange(len(population)), size=len(population), p=selection_probabilities)\n",
    "    parents = population[parents_indices]\n",
    "    return parents"
   ]
  },
  {
   "cell_type": "code",
   "execution_count": 39,
   "metadata": {},
   "outputs": [],
   "source": [
    "def crossover(parents, pc):\n",
    "    children = np.zeros_like(parents)\n",
    "    for i in range(len(parents)):\n",
    "        if np.random.rand() < pc:\n",
    "            parent1 = parents[np.random.randint(len(parents))]\n",
    "            parent2 = parents[np.random.randint(len(parents))]\n",
    "            children[i] = np.array([parent1[0], parent2[1]])\n",
    "        else:\n",
    "            children[i] = parents[i]\n",
    "    return children"
   ]
  },
  {
   "cell_type": "code",
   "execution_count": 40,
   "metadata": {},
   "outputs": [],
   "source": [
    "def mutate(children, pm, distance=100):\n",
    "    for i in range(len(children)):\n",
    "        for j in range(2):\n",
    "            if np.random.rand() < pm:\n",
    "                children[i][j] = np.random.uniform(-distance, distance)\n",
    "    return children"
   ]
  },
  {
   "cell_type": "markdown",
   "metadata": {},
   "source": [
    "### 2.2 Algorithm implementation"
   ]
  },
  {
   "cell_type": "code",
   "execution_count": 98,
   "metadata": {},
   "outputs": [],
   "source": [
    "def evolutionary_algorithm(function, base_length=1000, max_iter=1000, pm=0.01, pc=0.7, solution_check=50):\n",
    "\n",
    "    all_populations = []\n",
    "    all_fitness_scores = []\n",
    "\n",
    "    population = np.random.uniform(-100, 100, size=(base_length, 2))\n",
    "    best_solutions = []\n",
    "    best_scores = []\n",
    "    iterations = max_iter\n",
    "\n",
    "    for i in range(max_iter):\n",
    "        # Rating individuals\n",
    "        fitness_scores = calculate_scores(population, function)\n",
    "        all_populations.append(population)\n",
    "        all_fitness_scores.append(fitness_scores)\n",
    "\n",
    "        # Parent selection\n",
    "        parents = selection(population, fitness_scores)\n",
    "\n",
    "        # Crossover\n",
    "        children = crossover(parents, pc)\n",
    "\n",
    "        # Mutation and succession\n",
    "        population = mutate(children, pm)\n",
    "    \n",
    "        solution = population[np.argmin(calculate_scores(population, function))]\n",
    "        solution_score = function(solution)\n",
    "        best_solutions.append(solution)\n",
    "        best_scores.append(solution_score)\n",
    "\n",
    "        if i % solution_check == 0 and i > 0:\n",
    "            print(f\"Simulating generation {i}. This generation info:\")\n",
    "            print(f\"Lowest score: {solution_score}\\nBest solution: {solution}\")\n",
    "            if np.round(best_scores[-1], 8) == np.round(best_scores[i - solution_check], 8):\n",
    "                iterations = i\n",
    "                break\n",
    "\n",
    "    return best_solutions, best_scores, all_populations, all_fitness_scores, iterations\n"
   ]
  },
  {
   "cell_type": "markdown",
   "metadata": {},
   "source": [
    "## 3. Application on functions"
   ]
  },
  {
   "cell_type": "markdown",
   "metadata": {},
   "source": [
    "#### Useful functions"
   ]
  },
  {
   "cell_type": "code",
   "execution_count": 99,
   "metadata": {},
   "outputs": [],
   "source": [
    "import pandas as pd\n",
    "import matplotlib.pyplot as plt"
   ]
  },
  {
   "cell_type": "code",
   "execution_count": 100,
   "metadata": {},
   "outputs": [],
   "source": [
    "def plot_scores(scores):\n",
    "    plt.plot(scores)\n",
    "    plt.xlabel('Generations')\n",
    "    plt.ylabel('Best scores')"
   ]
  },
  {
   "cell_type": "markdown",
   "metadata": {},
   "source": [
    "### 3.1 Himmelblau's function"
   ]
  },
  {
   "cell_type": "code",
   "execution_count": 101,
   "metadata": {},
   "outputs": [
    {
     "name": "stdout",
     "output_type": "stream",
     "text": [
      "Simulating generation 100. This generation info:\n",
      "Lowest score: 1.6636869929674463\n",
      "Best solution: [-3.94882371 -3.30380845]\n",
      "Simulating generation 200. This generation info:\n",
      "Lowest score: 0.13462550590184297\n",
      "Best solution: [-3.82889532 -3.30380845]\n",
      "Simulating generation 300. This generation info:\n",
      "Lowest score: 0.13462550590184297\n",
      "Best solution: [-3.82889532 -3.30380845]\n"
     ]
    }
   ],
   "source": [
    "base_lenght = 1000\n",
    "max_iter = 1000\n",
    "pm = 0.01\n",
    "pc = 0.7\n",
    "solution_check = 100\n",
    "\n",
    "solutions, scores, all_populations, all_scores, iterations = evolutionary_algorithm(himmelblau, base_lenght, max_iter, pm, pc, solution_check)"
   ]
  },
  {
   "cell_type": "code",
   "execution_count": 102,
   "metadata": {},
   "outputs": [
    {
     "data": {
      "image/png": "[encoded data removed]",
      "text/plain": [
       "<Figure size 640x480 with 1 Axes>"
      ]
     },
     "metadata": {},
     "output_type": "display_data"
    }
   ],
   "source": [
    "plot_scores(scores)"
   ]
  },
  {
   "cell_type": "code",
   "execution_count": 103,
   "metadata": {},
   "outputs": [
    {
     "name": "stdout",
     "output_type": "stream",
     "text": [
      "Simulating generation 100. This generation info:\n",
      "Lowest score: 0.00031903237079846454\n",
      "Best solution: [3.00297332 1.99985282]\n",
      "Simulating generation 200. This generation info:\n",
      "Lowest score: 0.00031903237079846454\n",
      "Best solution: [3.00297332 1.99985282]\n"
     ]
    }
   ],
   "source": [
    "base_lenght = 10000\n",
    "max_iter = 1000\n",
    "pm = 0.01\n",
    "pc = 0.7\n",
    "solution_check = 100\n",
    "\n",
    "solutions, scores, all_populations, all_scores, iterations = evolutionary_algorithm(himmelblau, base_lenght, max_iter, pm, pc, solution_check)"
   ]
  },
  {
   "cell_type": "code",
   "execution_count": 104,
   "metadata": {},
   "outputs": [
    {
     "data": {
      "image/png": "[encoded data removed]",
      "text/plain": [
       "<Figure size 640x480 with 1 Axes>"
      ]
     },
     "metadata": {},
     "output_type": "display_data"
    }
   ],
   "source": [
    "plot_scores(scores)"
   ]
  },
  {
   "cell_type": "markdown",
   "metadata": {},
   "source": [
    "### 3.2 Ackley's function"
   ]
  },
  {
   "cell_type": "code",
   "execution_count": 105,
   "metadata": {},
   "outputs": [
    {
     "name": "stdout",
     "output_type": "stream",
     "text": [
      "Simulating generation 100. This generation info:\n",
      "Lowest score: 0.038175616580052196\n",
      "Best solution: [ 0.00602555 -0.01051191]\n",
      "Simulating generation 200. This generation info:\n",
      "Lowest score: 0.03872666208631559\n",
      "Best solution: [-0.00633822 -0.01051191]\n",
      "Simulating generation 300. This generation info:\n",
      "Lowest score: 0.03872666208631559\n",
      "Best solution: [-0.00633822 -0.01051191]\n"
     ]
    }
   ],
   "source": [
    "base_lenght = 10000\n",
    "max_iter = 1000\n",
    "pm = 0.01\n",
    "pc = 0.7\n",
    "solution_check = 100\n",
    "\n",
    "solutions, scores, all_populations, all_scores, iterations = evolutionary_algorithm(ackley, base_lenght, max_iter, pm, pc, solution_check)"
   ]
  },
  {
   "cell_type": "code",
   "execution_count": 106,
   "metadata": {},
   "outputs": [
    {
     "data": {
      "image/png": "[encoded data removed]",
      "text/plain": [
       "<Figure size 640x480 with 1 Axes>"
      ]
     },
     "metadata": {},
     "output_type": "display_data"
    }
   ],
   "source": [
    "plot_scores(scores)"
   ]
  },
  {
   "cell_type": "code",
   "execution_count": 113,
   "metadata": {},
   "outputs": [
    {
     "name": "stdout",
     "output_type": "stream",
     "text": [
      "Simulating generation 100. This generation info:\n",
      "Lowest score: 0.19005800800539463\n",
      "Best solution: [ 0.02835517 -0.03728382]\n",
      "Simulating generation 200. This generation info:\n",
      "Lowest score: 0.19005800800539463\n",
      "Best solution: [ 0.02835517 -0.03728382]\n"
     ]
    }
   ],
   "source": [
    "base_lenght = 1000\n",
    "max_iter = 1000\n",
    "pm = 0.01\n",
    "pc = 0.9\n",
    "solution_check = 100\n",
    "\n",
    "solutions, scores, all_populations, all_scores, iterations = evolutionary_algorithm(ackley, base_lenght, max_iter, pm, pc, solution_check)"
   ]
  },
  {
   "cell_type": "code",
   "execution_count": 114,
   "metadata": {},
   "outputs": [
    {
     "data": {
      "image/png": "[encoded data removed]",
      "text/plain": [
       "<Figure size 640x480 with 1 Axes>"
      ]
     },
     "metadata": {},
     "output_type": "display_data"
    }
   ],
   "source": [
    "plot_scores(scores)"
   ]
  },
  {
   "cell_type": "code",
   "execution_count": null,
   "metadata": {},
   "outputs": [],
   "source": []
  }
 ],
 "metadata": {
  "kernelspec": {
   "display_name": "Python 3",
   "language": "python",
   "name": "python3"
  },
  "language_info": {
   "codemirror_mode": {
    "name": "ipython",
    "version": 3
   },
   "file_extension": ".py",
   "mimetype": "text/x-python",
   "name": "python",
   "nbconvert_exporter": "python",
   "pygments_lexer": "ipython3",
   "version": "3.12.2"
  }
 },
 "nbformat": 4,
 "nbformat_minor": 2
}
